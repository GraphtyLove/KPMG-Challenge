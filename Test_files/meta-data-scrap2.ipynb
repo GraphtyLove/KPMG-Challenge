{
 "cells": [
  {
   "cell_type": "markdown",
   "metadata": {},
   "source": [
    "# Scrapt data from for each entreprise"
   ]
  },
  {
   "cell_type": "markdown",
   "metadata": {},
   "source": [
    "## IMPORTS"
   ]
  },
  {
   "cell_type": "code",
   "execution_count": 98,
   "metadata": {},
   "outputs": [],
   "source": [
    "import json\n",
    "import time\n",
    "import re\n",
    "from bs4 import BeautifulSoup\n",
    "from urllib.request import urlopen, Request\n",
    "import sys"
   ]
  },
  {
   "cell_type": "markdown",
   "metadata": {},
   "source": [
    "## Get entrprise number for all the entreprises"
   ]
  },
  {
   "cell_type": "code",
   "execution_count": 10,
   "metadata": {},
   "outputs": [],
   "source": [
    "headers = {\n",
    "    'User-Agent': 'Mozilla/5.0 (Windows NT 6.1) AppleWebKit/537.36 (KHTML, like Gecko) Chrome/41.0.2228.0 Safari/537.3'}\n",
    "\n",
    "YEARS = [2014, 2015, 2016, 2018, 2019]\n",
    "#for year in YEARS:\n",
    "    #loaded_json = {}\n",
    "    #with open(f'../assets/json/links_entreprises/links_entreprises_{year}.json', 'r', encoding='utf-8') as file:\n",
    "        #file = file.read()\n",
    "        #loaded_json = json.loads(file)\n",
    "    \n",
    "    #for link in loaded_json:\n",
    "     #   json_meta_data = {}\n",
    "      #  entreprise_number = re.findall('[0-9]{10}', link)[0]\n",
    "       # json_meta_data['Registration Number'] = entreprise_number\n",
    "        \n",
    "        #Scraping\n",
    "        #url = f'https://kbopub.economie.fgov.be/kbopub/toonondernemingps.html?ondernemingsnummer={entreprise_number}&lang=fr'\n",
    "        #time.sleep(0.2)\n",
    "        #req = Request(url=url, headers=headers) \n",
    "        #html = urlopen(req).read()\n",
    "        #soup = BeautifulSoup(html,'lxml')\n",
    "        \n",
    "        #print(soup.tr.get_text())\n",
    "        #title = soup.find_all('tr',attrs={\"class\":\"title\"}, text=True)\n",
    "        #data = soup.find_all('td', attrs={\"colspan\": \"2\"}, text=True)\n",
    "        \n",
    "        "
   ]
  },
  {
   "cell_type": "markdown",
   "metadata": {},
   "source": [
    "## TEST CELL"
   ]
  },
  {
   "cell_type": "code",
   "execution_count": 241,
   "metadata": {},
   "outputs": [
    {
     "name": "stdout",
     "output_type": "stream",
     "text": [
      "Fonctions\n",
      "Fonctions\n",
      "{'Généralités': {\"Numéro d'entreprise:\": '0543.664.709', 'Statut:': 'Actif', 'Situation juridique:': 'Situation normaleDepuis le 30 décembre 2013', 'Date de début:': '30 décembre 2013', 'Dénomination:': 'AIR EVOLUTIONDénomination en français, depuis le 30 décembre 2013', 'Adresse du siège:': 'Rue de Jumet\\xa076\\n6044\\xa0Charleroi\\nDepuis le 30 décembre 2013', 'Numéro de téléphone:': None, 'Numéro de fax:': None, 'E-mail:': None, 'Adresse web:': None, \"Type d'entité:\": 'Personne morale', 'Forme légale:': 'Société privée à responsabilité limitée\\nDepuis le 30 décembre 2013', \"Nombre d'unités d'établissement (UE):\": '1\\xa0\\nDonnées et Activités par UE'}, 'Fonctions': {'Gérant': {'nom': 'Depover Jacques', 'date': 'Depuis le 30 décembre 2013'}}, 'Compétences professionnelles et connaissances de gestion de base': '', 'Qualités': 'Entreprise soumise à inscription Depuis le 1 novembre 2018', 'Autorisations': 'Connaissances de gestion de base Depuis le 16 janvier 2014', 'Activités TVA Code Nacebel version 2008(1)': \"TVA 2008\\xa0\\n43.222 \\xa0-\\xa0\\nInstallation de chauffage, de ventilation et de conditionnement d'air Depuis le 30 décembre 2013\", 'Activités ONSS Code Nacebel version 2008(1)': \"ONSS2008\\xa0\\n43.222\\xa0-\\xa0\\nInstallation de chauffage, de ventilation et de conditionnement d'air Depuis le 1 septembre 2014\", 'Données financières': {'Capital': '18.600\\xa0EUR', 'Assemblée générale': 'juin', \"Date de fin de l'année comptable\": '31 décembre'}, 'Liens entre entités': 'Pas de données reprises dans la BCE.', 'Liens externes': 'Liens externes'}\n"
     ]
    }
   ],
   "source": [
    "Json_formated = {}\n",
    "json_key = ''\n",
    "\n",
    "#Scraping\n",
    "url = f'https://kbopub.economie.fgov.be/kbopub/toonondernemingps.html?ondernemingsnummer=0543664709&lang=fr'\n",
    "time.sleep(0.2)\n",
    "req = Request(url=url, headers=headers) \n",
    "html = urlopen(req).read()\n",
    "soup = BeautifulSoup(html,'lxml')\n",
    "tr = soup.select('tr')\n",
    "\n",
    "\n",
    "title_two_row_formated_data = ['Généralités', 'Données financières', \n",
    "                                'In general', 'Financial information',\n",
    "                                'Algemeen', 'Financiële gegevens']\n",
    "\n",
    "title_two_three_formated_data = ['Fonctions', 'Functions','Functies']\n",
    "\n",
    "function_count = 0\n",
    "\n",
    "for tr_content in tr:\n",
    "    full_data = tr_content.find_all('td')\n",
    "    \n",
    "    #for td_content in full_data:\n",
    "    iter_job = iter(full_data)\n",
    "    while True:\n",
    "        try:\n",
    "            td_content = next(iter_job)\n",
    "            td_text = td_content.get_text().strip()\n",
    "            td_text = td_text.replace('\t', '')\n",
    "            try:\n",
    "                if 'I' in td_content['class']:\n",
    "                    json_title_key = td_text\n",
    "                    Json_formated[json_title_key] = {}\n",
    "            \n",
    "\n",
    "            except:\n",
    "                continue\n",
    "\n",
    "            if json_title_key in title_two_row_formated_data:\n",
    "                if len(td_content) > 0:\n",
    "                    if td_text == 'Pas de données reprises dans la BCE.':\n",
    "                        td_text = None\n",
    "\n",
    "                    if td_content == full_data[0]:\n",
    "                        json_key = td_text\n",
    "                    else:\n",
    "                        Json_formated[json_title_key][json_key] = td_text\n",
    "\n",
    "            elif json_title_key in title_two_three_formated_data:\n",
    "                print(json_title_key)\n",
    "                Json_formated[json_title_key] = {\n",
    "                    td_text: {'nom':next(iter_job).get_text().strip().replace('   ', ' ').replace(' ,',''),\n",
    "                    'date':next(iter_job).get_text().strip().replace('\t', '')\n",
    "                    }\n",
    "                }\n",
    "            else:\n",
    "                Json_formated[json_title_key] = td_text.replace('Depuis', ' Depuis')\n",
    "        except StopIteration:\n",
    "            break\n",
    "            \n",
    "\n",
    "print(Json_formated)\n",
    "with open(f'../assets/json/meta-data/2014/TEST.meta.json', 'w', encoding='utf-8') as file:\n",
    "    json.dump(Json_formated, file, ensure_ascii=False, indent=4)"
   ]
  },
  {
   "cell_type": "code",
   "execution_count": null,
   "metadata": {},
   "outputs": [],
   "source": [
    " "
   ]
  }
 ],
 "metadata": {
  "kernelspec": {
   "display_name": "Python 3",
   "language": "python",
   "name": "python3"
  },
  "language_info": {
   "codemirror_mode": {
    "name": "ipython",
    "version": 3
   },
   "file_extension": ".py",
   "mimetype": "text/x-python",
   "name": "python",
   "nbconvert_exporter": "python",
   "pygments_lexer": "ipython3",
   "version": "3.7.4"
  }
 },
 "nbformat": 4,
 "nbformat_minor": 2
}
