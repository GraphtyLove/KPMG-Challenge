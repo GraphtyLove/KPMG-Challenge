{
 "cells": [
  {
   "cell_type": "markdown",
   "metadata": {},
   "source": [
    "# Scrapt data from for each entreprise"
   ]
  },
  {
   "cell_type": "markdown",
   "metadata": {},
   "source": [
    "## IMPORTS"
   ]
  },
  {
   "cell_type": "code",
   "execution_count": 98,
   "metadata": {},
   "outputs": [],
   "source": [
    "import json\n",
    "import time\n",
    "import re\n",
    "from bs4 import BeautifulSoup\n",
    "from urllib.request import urlopen, Request\n",
    "import sys"
   ]
  },
  {
   "cell_type": "markdown",
   "metadata": {},
   "source": [
    "## Get entrprise number for all the entreprises"
   ]
  },
  {
   "cell_type": "code",
   "execution_count": 10,
   "metadata": {},
   "outputs": [],
   "source": [
    "headers = {\n",
    "    'User-Agent': 'Mozilla/5.0 (Windows NT 6.1) AppleWebKit/537.36 (KHTML, like Gecko) Chrome/41.0.2228.0 Safari/537.3'}\n",
    "\n",
    "YEARS = [2014, 2015, 2016, 2018, 2019]\n",
    "#for year in YEARS:\n",
    "    #loaded_json = {}\n",
    "    #with open(f'../assets/json/links_entreprises/links_entreprises_{year}.json', 'r', encoding='utf-8') as file:\n",
    "        #file = file.read()\n",
    "        #loaded_json = json.loads(file)\n",
    "    \n",
    "    #for link in loaded_json:\n",
    "     #   json_meta_data = {}\n",
    "      #  entreprise_number = re.findall('[0-9]{10}', link)[0]\n",
    "       # json_meta_data['Registration Number'] = entreprise_number\n",
    "        \n",
    "        #Scraping\n",
    "        #url = f'https://kbopub.economie.fgov.be/kbopub/toonondernemingps.html?ondernemingsnummer={entreprise_number}&lang=fr'\n",
    "        #time.sleep(0.2)\n",
    "        #req = Request(url=url, headers=headers) \n",
    "        #html = urlopen(req).read()\n",
    "        #soup = BeautifulSoup(html,'lxml')\n",
    "        \n",
    "        #print(soup.tr.get_text())\n",
    "        #title = soup.find_all('tr',attrs={\"class\":\"title\"}, text=True)\n",
    "        #data = soup.find_all('td', attrs={\"colspan\": \"2\"}, text=True)\n",
    "        \n",
    "        "
   ]
  },
  {
   "cell_type": "markdown",
   "metadata": {},
   "source": [
    "## TEST CELL"
   ]
  },
  {
   "cell_type": "code",
   "execution_count": 155,
   "metadata": {},
   "outputs": [
    {
     "name": "stdout",
     "output_type": "stream",
     "text": [
      "{'Généralités': {\"Numéro d'entreprise:\": '0543.664.709', 'Statut:': 'Actif', 'Situation juridique:': 'Situation normaleDepuis le 30 décembre 2013', 'Date de début:': '30 décembre 2013', 'Dénomination:': 'AIR EVOLUTIONDénomination en français, depuis le 30 décembre 2013', 'Adresse du siège:': 'Rue de Jumet\\xa076\\n6044\\xa0Charleroi\\nDepuis le 30 décembre 2013', 'Numéro de téléphone:': None, 'Numéro de fax:': None, 'E-mail:': None, 'Adresse web:': None, \"Type d'entité:\": 'Personne morale', 'Forme légale:': 'Société privée à responsabilité limitée\\nDepuis le 30 décembre 2013', \"Nombre d'unités d'établissement (UE):\": '1\\xa0\\nDonnées et Activités par UE'}}\n"
     ]
    }
   ],
   "source": [
    "#Scraping\n",
    "url = f'https://kbopub.economie.fgov.be/kbopub/toonondernemingps.html?ondernemingsnummer=0543664709&lang=fr'\n",
    "time.sleep(0.2)\n",
    "req = Request(url=url, headers=headers) \n",
    "html = urlopen(req).read()\n",
    "soup = BeautifulSoup(html,'lxml')\n",
    "\n",
    "tr = soup.select('tr')\n",
    "\n",
    "Json_formated = {}\n",
    "json_key = ''\n",
    "title_count = 0\n",
    "\n",
    "for tr_content in tr:\n",
    "    if title_count < 2:\n",
    "        full_data = tr_content.find_all('td')\n",
    "        for td_content in full_data:\n",
    "            try:\n",
    "                if 'I' in td_content['class']:\n",
    "                    title = td_content.get_text().strip()\n",
    "                    # print(f'* ---------- {title} ---------- *')\n",
    "                    json_title_key = title\n",
    "                    if title_count < 1:\n",
    "                        Json_formated[json_title_key] = {}\n",
    "                    title_count += 1\n",
    "                else:\n",
    "                    td_text = td_content.get_text().strip()\n",
    "                    td_text = td_text.replace('\t', '')\n",
    "                    # td_text = td_text.replace('\\n', ' ')\n",
    "                    if len(td_content) > 0:\n",
    "                        if td_text == 'Pas de données reprises dans la BCE.':\n",
    "                            td_text = None\n",
    "                        # print(f'TEXTE : {td_text}')\n",
    "                        # print(f'CONTENT : {td_content}')\n",
    "                        if td_content == full_data[0]:\n",
    "                            json_key = td_text\n",
    "                        else:\n",
    "                            Json_formated[json_title_key][json_key] = td_text\n",
    "            except:\n",
    "                continue\n",
    "                \n",
    "                \n",
    "                \n",
    "                \n",
    "                \n",
    "\n",
    "print(Json_formated)\n",
    "with open(f'../assets/json/meta-data/2014/TEST.meta.json', 'w', encoding='utf-8') as file:\n",
    "    json.dump(Json_formated, file, ensure_ascii=False, indent=4)"
   ]
  },
  {
   "cell_type": "code",
   "execution_count": 174,
   "metadata": {},
   "outputs": [
    {
     "name": "stdout",
     "output_type": "stream",
     "text": [
      "Fonctions\n",
      "Généralités\n",
      "TEXTE : Généralités\n",
      "{}\n"
     ]
    }
   ],
   "source": [
    "Json_formated = {}\n",
    "json_key = ''\n",
    "\n",
    "#Scraping\n",
    "url = f'https://kbopub.economie.fgov.be/kbopub/toonondernemingps.html?ondernemingsnummer=0543664709&lang=fr'\n",
    "time.sleep(0.2)\n",
    "req = Request(url=url, headers=headers) \n",
    "html = urlopen(req).read()\n",
    "soup = BeautifulSoup(html,'lxml')\n",
    "tr = soup.select('tr')\n",
    "\n",
    "\n",
    "title_for_list_formated_data = ['Généralités', 'Données financières', \n",
    "\t\t\t\t\t\t\t\t'In general', 'Financial information',\n",
    "\t\t\t\t\t\t\t\t'Algemeen', 'Financiële gegevens']\n",
    "\n",
    "for tr_content in tr:\n",
    "    for td_content in full_data:\n",
    "        full_data = tr_content.find_all('td')\n",
    "        try:\n",
    "            if 'I' in td_content['class']:\n",
    "                json_title_key = td_content.get_text().strip()\n",
    "                print(json_title_key)\n",
    "                if json_title_key in title_for_list_formated_data:\n",
    "                    td_text = td_content.get_text().strip()\n",
    "                    td_text = td_text.replace('\t', '')\n",
    "                    print(f'TEXTE : {td_text}')\n",
    "                    # td_text = td_text.replace('\\n', ' ')\n",
    "\n",
    "                    if len(td_content) > 0:\n",
    "                        if td_text == 'Pas de données reprises dans la BCE.':\n",
    "                            td_text = None\n",
    "                        # print(f'CONTENT : {td_content}')\n",
    "                        if td_content == full_data[0]:\n",
    "                            json_key = td_text\n",
    "                        else:\n",
    "                            Json_formated[json_title_key][json_key] = td_text\n",
    "        except:\n",
    "            continue\n",
    "print(Json_formated)\n",
    "with open(f'../assets/json/meta-data/2014/TEST.meta.json', 'w', encoding='utf-8') as file:\n",
    "    json.dump(Json_formated, file, ensure_ascii=False, indent=4)"
   ]
  },
  {
   "cell_type": "code",
   "execution_count": 157,
   "metadata": {},
   "outputs": [
    {
     "name": "stdout",
     "output_type": "stream",
     "text": [
      "TRUE\n"
     ]
    }
   ],
   "source": [
    "list_title = ['Généralités', 'Données financières', \n",
    "\t\t\t\t'In general', 'Financial information',\n",
    "\t\t\t\t 'Algemeen', 'Financiële gegevens']\n",
    "\n",
    "title = 'Algemeen'\n",
    "\n",
    "if title in list_title:\n",
    "    print('TRUE')\n",
    "else:\n",
    "    print('FALSE')"
   ]
  },
  {
   "cell_type": "code",
   "execution_count": null,
   "metadata": {},
   "outputs": [],
   "source": []
  }
 ],
 "metadata": {
  "kernelspec": {
   "display_name": "Python 3",
   "language": "python",
   "name": "python3"
  },
  "language_info": {
   "codemirror_mode": {
    "name": "ipython",
    "version": 3
   },
   "file_extension": ".py",
   "mimetype": "text/x-python",
   "name": "python",
   "nbconvert_exporter": "python",
   "pygments_lexer": "ipython3",
   "version": "3.7.4"
  }
 },
 "nbformat": 4,
 "nbformat_minor": 2
}
