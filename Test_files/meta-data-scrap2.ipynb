{
 "cells": [
  {
   "cell_type": "markdown",
   "metadata": {},
   "source": [
    "# Scrapt data from for each entreprise"
   ]
  },
  {
   "cell_type": "markdown",
   "metadata": {},
   "source": [
    "## IMPORTS"
   ]
  },
  {
   "cell_type": "code",
   "execution_count": 12,
   "metadata": {},
   "outputs": [],
   "source": [
    "import json\n",
    "import time\n",
    "import re\n",
    "from requests import Request\n",
    "from bs4 import BeautifulSoup\n",
    "from urllib.request import urlopen, Request"
   ]
  },
  {
   "cell_type": "markdown",
   "metadata": {},
   "source": [
    "## Get entrprise number for all the entreprises"
   ]
  },
  {
   "cell_type": "code",
   "execution_count": 10,
   "metadata": {},
   "outputs": [],
   "source": [
    "headers = {\n",
    "    'User-Agent': 'Mozilla/5.0 (Windows NT 6.1) AppleWebKit/537.36 (KHTML, like Gecko) Chrome/41.0.2228.0 Safari/537.3'}\n",
    "\n",
    "YEARS = [2014, 2015, 2016, 2018, 2019]\n",
    "#for year in YEARS:\n",
    "    #loaded_json = {}\n",
    "    #with open(f'../assets/json/links_entreprises/links_entreprises_{year}.json', 'r', encoding='utf-8') as file:\n",
    "        #file = file.read()\n",
    "        #loaded_json = json.loads(file)\n",
    "    \n",
    "    #for link in loaded_json:\n",
    "     #   json_meta_data = {}\n",
    "      #  entreprise_number = re.findall('[0-9]{10}', link)[0]\n",
    "       # json_meta_data['Registration Number'] = entreprise_number\n",
    "        \n",
    "        #Scraping\n",
    "        #url = f'https://kbopub.economie.fgov.be/kbopub/toonondernemingps.html?ondernemingsnummer={entreprise_number}&lang=fr'\n",
    "        #time.sleep(0.2)\n",
    "        #req = Request(url=url, headers=headers) \n",
    "        #html = urlopen(req).read()\n",
    "        #soup = BeautifulSoup(html,'lxml')\n",
    "        \n",
    "        #print(soup.tr.get_text())\n",
    "        #title = soup.find_all('tr',attrs={\"class\":\"title\"}, text=True)\n",
    "        #data = soup.find_all('td', attrs={\"colspan\": \"2\"}, text=True)\n",
    "        \n",
    "        "
   ]
  },
  {
   "cell_type": "markdown",
   "metadata": {},
   "source": [
    "## TEST CELL"
   ]
  },
  {
   "cell_type": "code",
   "execution_count": 13,
   "metadata": {},
   "outputs": [
    {
     "name": "stdout",
     "output_type": "stream",
     "text": [
      "Généralités\n"
     ]
    }
   ],
   "source": [
    "#Scraping\n",
    "url = f'https://kbopub.economie.fgov.be/kbopub/toonondernemingps.html?ondernemingsnummer=0543664709&lang=fr'\n",
    "time.sleep(0.2)\n",
    "req = Request(url=url, headers=headers) \n",
    "html = urlopen(req).read()\n",
    "soup = BeautifulSoup(html,'lxml')\n",
    "\n",
    "print(soup.tr.get_text())"
   ]
  },
  {
   "cell_type": "code",
   "execution_count": null,
   "metadata": {},
   "outputs": [],
   "source": []
  }
 ],
 "metadata": {
  "kernelspec": {
   "display_name": "Python 3",
   "language": "python",
   "name": "python3"
  },
  "language_info": {
   "codemirror_mode": {
    "name": "ipython",
    "version": 3
   },
   "file_extension": ".py",
   "mimetype": "text/x-python",
   "name": "python",
   "nbconvert_exporter": "python",
   "pygments_lexer": "ipython3",
   "version": "3.7.4"
  }
 },
 "nbformat": 4,
 "nbformat_minor": 2
}
