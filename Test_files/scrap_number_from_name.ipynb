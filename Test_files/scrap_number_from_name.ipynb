{
 "cells": [
  {
   "cell_type": "markdown",
   "metadata": {
    "collapsed": true
   },
   "source": [
    "# Scrapt the usiness number from the name of the entreprise"
   ]
  },
  {
   "cell_type": "markdown",
   "metadata": {},
   "source": [
    "## Get a list of proposition from a given name"
   ]
  },
  {
   "cell_type": "markdown",
   "metadata": {},
   "source": [
    "### IMPORTS"
   ]
  },
  {
   "cell_type": "code",
   "execution_count": 36,
   "metadata": {},
   "outputs": [],
   "source": [
    "import re\n",
    "from bs4 import BeautifulSoup\n",
    "from urllib.request import urlopen, Request"
   ]
  },
  {
   "cell_type": "code",
   "execution_count": 78,
   "metadata": {},
   "outputs": [
    {
     "name": "stdout",
     "output_type": "stream",
     "text": [
      "{0: {'name': 'BeCode', 'business_number': '0664802168', 'account number': 'BE0664.802.168'}, 1: {'name': 'Becode', 'business_number': '0472770377', 'account number': 'BE0472.770.377'}}\n"
     ]
    }
   ],
   "source": [
    "input_value = 'becode'\n",
    "output_json = {}\n",
    "\n",
    "headers = {\n",
    "    'User-Agent': 'Mozilla/5.0 (Windows NT 6.1) AppleWebKit/537.36 (KHTML, like Gecko) Chrome/41.0.2228.0 Safari/537.3'\n",
    "}\n",
    "\n",
    "#Scraping\n",
    "url = f'https://www.staatsbladmonitor.be/onderneming-zoeken.html?search={input_value}'\n",
    "req = Request(url=url, headers=headers) \n",
    "html = urlopen(req).read()\n",
    "soup = BeautifulSoup(html,'lxml')\n",
    "\n",
    "# Get all <td> with the class 'tdata2' (the list of the entreprises)\n",
    "td_tdata2 = soup.find_all('td', {'class': 'tdata2'})\n",
    "\n",
    "for k,v in enumerate(td_tdata2):\n",
    "    # Select informations\n",
    "    company_name = v.find('b').get_text()\n",
    "    company_account_number = re.findall('BE[0-9]{4}\\.[0-9]{3}\\.[0-9]{3}', v.get_text())[0]\n",
    "    company_business_number = re.findall('[0-9]{10}', v.find('a')['href'])[0]\n",
    "    # Store data in a json format\n",
    "    output_json[k] = {}\n",
    "    output_json[k]['name'] = company_name\n",
    "    output_json[k]['business_number'] = company_business_number\n",
    "    output_json[k]['account number'] = company_account_number\n",
    "    \n",
    "    \n",
    "print(output_json)"
   ]
  },
  {
   "cell_type": "code",
   "execution_count": null,
   "metadata": {
    "collapsed": true
   },
   "outputs": [],
   "source": []
  },
  {
   "cell_type": "code",
   "execution_count": null,
   "metadata": {},
   "outputs": [],
   "source": []
  },
  {
   "cell_type": "code",
   "execution_count": null,
   "metadata": {},
   "outputs": [],
   "source": []
  }
 ],
 "metadata": {
  "kernelspec": {
   "display_name": "Python 3",
   "language": "python",
   "name": "python3"
  },
  "language_info": {
   "codemirror_mode": {
    "name": "ipython",
    "version": 3
   },
   "file_extension": ".py",
   "mimetype": "text/x-python",
   "name": "python",
   "nbconvert_exporter": "python",
   "pygments_lexer": "ipython3",
   "version": "3.7.4"
  }
 },
 "nbformat": 4,
 "nbformat_minor": 1
}
