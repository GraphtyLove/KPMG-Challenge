{
 "cells": [
  {
   "cell_type": "markdown",
   "metadata": {
    "collapsed": true,
    "pycharm": {
     "name": "#%% md\n"
    }
   },
   "source": [
    "# Detect scan then apply OCR\n",
    "\n",
    "Check if the document (txt) is a scan.\n",
    "- If yes, aplly OCR on the PDF + write texte in txt.\n",
    "- Then detect language.\n",
    "- Then translate in EN.\n"
   ]
  },
  {
   "cell_type": "markdown",
   "metadata": {
    "pycharm": {
     "name": "#%% md\n"
    }
   },
   "source": [
    "## IMPORTS\n"
   ]
  },
  {
   "cell_type": "code",
   "execution_count": 19,
   "metadata": {
    "pycharm": {
     "is_executing": false,
     "name": "#%%\n"
    }
   },
   "outputs": [],
   "source": [
    "import pandas as pd\n",
    "import os\n",
    "import re\n",
    "from tika import parser\n",
    "import spacy\n",
    "from spacy_langdetect import LanguageDetector\n",
    "import pytesseract\n",
    "from PIL import Image\n",
    "import codecs\n",
    "import sys\n",
    "import json\n",
    "from wand.image import Image as Img"
   ]
  },
  {
   "cell_type": "markdown",
   "metadata": {
    "pycharm": {
     "name": "#%% md\n"
    }
   },
   "source": [
    "## Check for scans in txt files\n"
   ]
  },
  {
   "cell_type": "code",
   "execution_count": 27,
   "metadata": {
    "pycharm": {
     "is_executing": false,
     "name": "#%%\n"
    }
   },
   "outputs": [
    {
     "name": "stdout",
     "output_type": "stream",
     "text": [
      "Scan N° 1 as been converted to jpg at: ../assets/img/2016/img-1.jpg and converted as txt at: ../assets/txt/2016/txt-1.txt\n",
      "----------------------------------------------------------------------------------------------------\n",
      "Scan N° 2 as been converted to jpg at: ../assets/img/2016/img-2.jpg and converted as txt at: ../assets/txt/2016/txt-2.txt\n",
      "----------------------------------------------------------------------------------------------------\n",
      "Scan N° 3 as been converted to jpg at: ../assets/img/2016/img-3.jpg and converted as txt at: ../assets/txt/2016/txt-3.txt\n",
      "----------------------------------------------------------------------------------------------------\n",
      "Scan N° 4 as been converted to jpg at: ../assets/img/2016/img-4.jpg and converted as txt at: ../assets/txt/2016/txt-4.txt\n",
      "----------------------------------------------------------------------------------------------------\n"
     ]
    }
   ],
   "source": [
    "YEAR = 2016\n",
    "# Get the list of all suspected scans\n",
    "suspected_scans = []\n",
    "with open(f'../assets/json/suspected_scans/suspected_scans_{YEAR}.json', 'r') as json_file:\n",
    "    suspected_scans = json.load(json_file)\n",
    "\n",
    "\n",
    "    \n",
    "    \n",
    "for unique_file in suspected_scans:\n",
    "    path_pdf = f'../assets/pdf/{YEAR}/pdf-{unique_file}.pdf'\n",
    "    path_txt = f'../assets/txt/{YEAR}/txt-{unique_file}.txt'\n",
    "    path_img = f'../assets/img/{YEAR}/img-{unique_file}.jpg'\n",
    "    \n",
    "    # Convert pdf to jpg\n",
    "    with Img(filename=path_pdf, resolution=300) as img:\n",
    "        img.compression_quality = 99\n",
    "        img.save(filename=path_img)\n",
    "    # Apply OCR on it\n",
    "    text_file = pytesseract.image_to_string(Image.open(path_img))\n",
    "    with codecs.open(path_txt, 'w', 'utf-8') as file:\n",
    "        file.write(text_file)\n",
    "    print(f'Scan N° {unique_file} as been converted to jpg at: {path_img} and converted as txt at: {path_txt}')\n",
    "    print('--------------------------------------------------')"
   ]
  },
  {
   "cell_type": "code",
   "execution_count": null,
   "metadata": {},
   "outputs": [],
   "source": []
  }
 ],
 "metadata": {
  "kernelspec": {
   "display_name": "Python 3",
   "language": "python",
   "name": "python3"
  },
  "language_info": {
   "codemirror_mode": {
    "name": "ipython",
    "version": 3
   },
   "file_extension": ".py",
   "mimetype": "text/x-python",
   "name": "python",
   "nbconvert_exporter": "python",
   "pygments_lexer": "ipython3",
   "version": "3.7.4"
  },
  "pycharm": {
   "stem_cell": {
    "cell_type": "raw",
    "metadata": {
     "collapsed": false
    },
    "source": []
   }
  }
 },
 "nbformat": 4,
 "nbformat_minor": 1
}
