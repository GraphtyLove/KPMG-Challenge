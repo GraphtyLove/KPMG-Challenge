{
 "cells": [
  {
   "cell_type": "code",
   "execution_count": 3,
   "metadata": {},
   "outputs": [],
   "source": [
    "from bs4 import BeautifulSoup\n",
    "from urllib.request import urlopen, Request\n",
    "headers = {'User-Agent': 'Mozilla/5.0 (Windows NT 6.1) AppleWebKit/537.36 (KHTML, like Gecko) Chrome/41.0.2228.0 Safari/537.3'}\n",
    "reg_url = \"https://www.staatsbladmonitor.be/bedrijfsfiche.html?ondernemingsnummer=0730976063\"\n",
    "req = Request(url=reg_url, headers=headers) \n",
    "html = urlopen(req).read()\n",
    "# I display the requested url and the return of the server\n",
    "soup = BeautifulSoup(html,'lxml')\n",
    "hrefs = soup.find_all('a',attrs={\"target\":\"_blank\"})"
   ]
  },
  {
   "cell_type": "code",
   "execution_count": 5,
   "metadata": {},
   "outputs": [],
   "source": [
    "#get list of url from maxim's github\n",
    "import urllib, json\n",
    "url = \"https://raw.githubusercontent.com/GraphtyLove/KPMG-Challenge/master/assets/link_each_entreprise.json\"\n",
    "response = urlopen(url)\n",
    "data = json.loads(response.read())\n",
    "\n",
    "pdf_urls = []"
   ]
  },
  {
   "cell_type": "code",
   "execution_count": null,
   "metadata": {},
   "outputs": [],
   "source": [
    "\n",
    "#download pdf's urls\n",
    "from datetime import datetime\n",
    "import time\n",
    "import requests\n",
    "\n",
    "\n",
    "for i, link in enumerate(data):\n",
    "    try:\n",
    "        time.sleep(0.1)\n",
    "        reg_url = link\n",
    "        req = Request(url=reg_url, headers=headers) \n",
    "        html = urlopen(req).read()\n",
    "        soup = BeautifulSoup(html,'lxml')\n",
    "        hrefs = soup.find_all('a',attrs={\"target\":\"_blank\"})\n",
    "        pdf_url = hrefs[3].attrs['href']\n",
    "        \n",
    "        myfile = requests.get(pdf_url)\n",
    "        f = open(f'pdfs/{i}.pdf', 'wb').write(myfile.content)\n",
    "        f.close()\n",
    "        \n",
    "        print(f\"succesfully scrapped pdf {i} from url {link}\")\n",
    "\n",
    "    except:\n",
    "        print(f'ERROR with url: {i} {link}')\n"
   ]
  },
  {
   "cell_type": "markdown",
   "metadata": {},
   "source": [
    " ### XAVIER STOP EXECUTING CODE AFTER THIS POINT"
   ]
  },
  {
   "cell_type": "code",
   "execution_count": null,
   "metadata": {},
   "outputs": [],
   "source": []
  },
  {
   "cell_type": "code",
   "execution_count": null,
   "metadata": {},
   "outputs": [],
   "source": []
  },
  {
   "cell_type": "code",
   "execution_count": 59,
   "metadata": {},
   "outputs": [
    {
     "data": {
      "text/plain": [
       "1390"
      ]
     },
     "execution_count": 59,
     "metadata": {},
     "output_type": "execute_result"
    }
   ],
   "source": [
    "import os\n",
    "from tika import parser\n",
    "\n",
    "path = 'pdfs/'\n",
    "\n",
    "files = []\n",
    "# r=root, d=directories, f = files\n",
    "for r, d, f in os.walk(path):\n",
    "    for file in f:\n",
    "        if '.pdf' in file:\n",
    "            files.append(os.path.join(r, file))\n",
    "\n",
    "for i,filepath in enumerate(files):\n",
    "    raw = parser.from_file(filepath)\n",
    "    file = open(\"txts/{i}.txt\",\"w\") \n",
    "    file.write(raw['content'])\n",
    "    file.close()"
   ]
  },
  {
   "cell_type": "code",
   "execution_count": 64,
   "metadata": {},
   "outputs": [
    {
     "name": "stdout",
     "output_type": "stream",
     "text": [
      "https://www.staatsbladmonitor.be/bedrijfsfiche.html?ondernemingsnummer=0720794132\n",
      "https://www.staatsbladmonitor.be/bedrijfsfiche.html?ondernemingsnummer=0720760577\n"
     ]
    }
   ],
   "source": [
    "print(data[1389+6732+1])\n",
    "print('https://www.staatsbladmonitor.be/bedrijfsfiche.html?ondernemingsnummer=0720760577')"
   ]
  }
 ],
 "metadata": {
  "kernelspec": {
   "display_name": "Python 3",
   "language": "python",
   "name": "python3"
  },
  "language_info": {
   "codemirror_mode": {
    "name": "ipython",
    "version": 3
   },
   "file_extension": ".py",
   "mimetype": "text/x-python",
   "name": "python",
   "nbconvert_exporter": "python",
   "pygments_lexer": "ipython3",
   "version": "3.7.3"
  }
 },
 "nbformat": 4,
 "nbformat_minor": 2
}
