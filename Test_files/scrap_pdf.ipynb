{
 "cells": [
  {
   "cell_type": "markdown",
   "metadata": {},
   "source": [
    "## Setup + Imports"
   ]
  },
  {
   "cell_type": "code",
   "execution_count": 6,
   "metadata": {},
   "outputs": [
    {
     "ename": "SyntaxError",
     "evalue": "Missing parentheses in call to 'print'. Did you mean print(error)? (<ipython-input-6-81eda0658e29>, line 46)",
     "output_type": "error",
     "traceback": [
      "\u001b[0;36m  File \u001b[0;32m\"<ipython-input-6-81eda0658e29>\"\u001b[0;36m, line \u001b[0;32m46\u001b[0m\n\u001b[0;31m    print error\u001b[0m\n\u001b[0m              ^\u001b[0m\n\u001b[0;31mSyntaxError\u001b[0m\u001b[0;31m:\u001b[0m Missing parentheses in call to 'print'. Did you mean print(error)?\n"
     ]
    }
   ],
   "source": [
    "import sys\n",
    "import os\n",
    "import re\n",
    "import subprocess\n",
    "import tempfile\n",
    "from PIL import Image\n",
    "\n",
    "\n",
    "def parse_captcha(filename):\n",
    "    \"\"\"Return the text for thie image using Tesseract\n",
    "    \"\"\"\n",
    "    img = threshold(filename)\n",
    "    return tesseract(img)\n",
    "\n",
    "\n",
    "def threshold(filename, limit=100):\n",
    "    \"\"\"Make text more clear by thresholding all pixels above / below this limit to white / black\n",
    "    \"\"\"\n",
    "    # read in colour channels\n",
    "    img = Image.open(filename)\n",
    "    # resize to make more clearer\n",
    "    m = 1.5\n",
    "    img = img.resize((int(img.size[0]*m), int(img.size[1]*m))).convert('RGBA')\n",
    "    pixdata = img.load()\n",
    "\n",
    "    for y in xrange(img.size[1]):\n",
    "        for x in xrange(img.size[0]):\n",
    "            if pixdata[x, y][0] < limit:\n",
    "                # make dark color black\n",
    "                pixdata[x, y] = (0, 0, 0, 255)\n",
    "            else:\n",
    "                # make light color white\n",
    "                pixdata[x, y] = (255, 255, 255, 255)\n",
    "    img.save('tmp/threshold_' + filename)\n",
    "    return img.convert('L') # convert image to single channel greyscale\n",
    "\n",
    "\n",
    "\n",
    "def call_command(*args):\n",
    "    \"\"\"call given command arguments, raise exception if error, and return output\n",
    "    \"\"\"\n",
    "    c = subprocess.Popen(args, stdout=subprocess.PIPE, stderr=subprocess.PIPE)\n",
    "    output, error = c.communicate()\n",
    "    if c.returncode != 0:\n",
    "        if error:\n",
    "            print error\n",
    "        print \"Error running `%s'\" % ' '.join(args)\n",
    "    return output\n",
    "\n",
    "\n",
    "def tesseract(image):\n",
    "    \"\"\"Decode image with Tesseract  \n",
    "    \"\"\"\n",
    "    # create temporary file for tiff image required as input to tesseract\n",
    "    input_file = tempfile.NamedTemporaryFile(suffix='.tif')\n",
    "    image.save(input_file.name)\n",
    "\n",
    "    # perform OCR\n",
    "    output_filename = input_file.name.replace('.tif', '.txt')\n",
    "    call_command('tesseract', input_file.name, output_filename.replace('.txt', ''))\n",
    "    \n",
    "    # read in result from output file\n",
    "    result = open(output_filename).read()\n",
    "    os.remove(output_filename)\n",
    "    return clean(result)\n",
    "\n",
    "\n",
    "def gocr(image):\n",
    "    \"\"\"Decode image with gocr\n",
    "    \"\"\"\n",
    "    input_file = tempfile.NamedTemporaryFile(suffix='.ppm')\n",
    "    image.save(input_file.name)\n",
    "    result = call_command('gocr', '-i', input_file.name)\n",
    "    return clean(result)\n",
    "     \n",
    "\n",
    "def ocrad(image):\n",
    "    \"\"\"Decode image with ocrad\n",
    "    \"\"\"\n",
    "    input_file = tempfile.NamedTemporaryFile(suffix='.ppm')\n",
    "    image.save(input_file.name)\n",
    "    result = call_command('ocrad', input_file.name)\n",
    "    return clean(result)\n",
    "\n",
    "\n",
    "def clean(s):\n",
    "    \"\"\"Standardize the OCR output\n",
    "    \"\"\"\n",
    "    # remove non-alpha numeric text\n",
    "    return re.sub('[\\W]', '', s)\n",
    "\n",
    "\n",
    "\n",
    "\n",
    "img = threshold('../capcha.jpg')\n",
    "print filename\n",
    "print 'Tesseract:', tesseract(img)\n",
    "print 'Gocr:', gocr(img)\n",
    "print 'Ocrad:', ocrad(img)\n",
    "\n"
   ]
  },
  {
   "cell_type": "code",
   "execution_count": 44,
   "metadata": {},
   "outputs": [],
   "source": [
    "from bs4 import BeautifulSoup\n",
    "from urllib.request import urlopen, Request\n",
    "import os\n",
    "from tika import parser\n",
    "import codecs\n",
    "import re\n",
    "import sys\n",
    "import sys\n",
    "# download pdf's urls\n",
    "from datetime import datetime\n",
    "import time\n",
    "import requests\n",
    "\n",
    "headers = {'User-Agent': 'Mozilla/5.0 (Windows NT 6.1) AppleWebKit/537.36 (KHTML, like Gecko) Chrome/41.0.2228.0 Safari/537.3'}\n",
    "YEAR_LIST = [2018,2019]"
   ]
  },
  {
   "cell_type": "code",
   "execution_count": 45,
   "metadata": {},
   "outputs": [],
   "source": [
    "#get list of url from maxim's github\n",
    "import urllib, json\n",
    "url = f\"https://raw.githubusercontent.com/GraphtyLove/KPMG-Challenge/master/assets/link_each_entreprise_{YEAR}.json\"\n",
    "response = urlopen(url)\n",
    "data = json.loads(response.read())\n",
    "data = list(set(data))"
   ]
  },
  {
   "cell_type": "markdown",
   "metadata": {},
   "source": [
    "## Download PDF"
   ]
  },
  {
   "cell_type": "code",
   "execution_count": 46,
   "metadata": {},
   "outputs": [
    {
     "name": "stdout",
     "output_type": "stream",
     "text": [
      "PDF n°0 OK from -> https://www.staatsbladmonitor.be/bedrijfsfiche.html?ondernemingsnummer=0716751509\n",
      "ERROR, suspected monitor from url 1 http://www.ejustice.just.fgov.be/mopdf/2019/01/16_1.pdf#Page1647\n",
      "PDF n°2 OK from -> https://www.staatsbladmonitor.be/bedrijfsfiche.html?ondernemingsnummer=0717552154\n",
      "PDF n°3 OK from -> https://www.staatsbladmonitor.be/bedrijfsfiche.html?ondernemingsnummer=0717540474\n",
      "PDF n°4 OK from -> https://www.staatsbladmonitor.be/bedrijfsfiche.html?ondernemingsnummer=0716768731\n",
      "PDF n°0 OK from -> https://www.staatsbladmonitor.be/bedrijfsfiche.html?ondernemingsnummer=0716751509\n",
      "ERROR, suspected monitor from url 1 http://www.ejustice.just.fgov.be/mopdf/2019/01/16_1.pdf#Page1647\n",
      "PDF n°2 OK from -> https://www.staatsbladmonitor.be/bedrijfsfiche.html?ondernemingsnummer=0717552154\n",
      "PDF n°3 OK from -> https://www.staatsbladmonitor.be/bedrijfsfiche.html?ondernemingsnummer=0717540474\n",
      "PDF n°4 OK from -> https://www.staatsbladmonitor.be/bedrijfsfiche.html?ondernemingsnummer=0716768731\n"
     ]
    }
   ],
   "source": [
    "\n",
    "for YEAR in YEAR_LIST:\n",
    "    for i, link in enumerate(data[:5]):\n",
    "        try:\n",
    "            time.sleep(0.1)\n",
    "            reg_url = link\n",
    "            req = Request(url=reg_url, headers=headers) \n",
    "            html = urlopen(req).read()\n",
    "            soup = BeautifulSoup(html,'lxml')\n",
    "            hrefs = soup.find_all('a',attrs={\"target\":\"_blank\"})\n",
    "            pdf_url = hrefs[3].attrs['href']\n",
    "\n",
    "            monitor_url = 'mopdf'\n",
    "            if (monitor_url in pdf_url):\n",
    "                print(f'ERROR, suspected monitor from url {i} {pdf_url}')\n",
    "            else:\n",
    "                myfile = requests.get(pdf_url)\n",
    "                with open(f'../assets/pdf/{YEAR}/pdf-{i}.pdf', 'wb') as file:\n",
    "                    file.write(myfile.content)\n",
    "\n",
    "                print(f\"PDF n°{i} OK from -> {link}\")\n",
    "\n",
    "        except:\n",
    "            print(f'ERROR url: {i} {link}')\n",
    "            print(sys.exc_info())\n"
   ]
  },
  {
   "cell_type": "markdown",
   "metadata": {},
   "source": [
    "## Check all the PDF and sort a list of there names"
   ]
  },
  {
   "cell_type": "code",
   "execution_count": 47,
   "metadata": {},
   "outputs": [
    {
     "ename": "IndentationError",
     "evalue": "expected an indented block (<ipython-input-47-6de52ee627bd>, line 13)",
     "output_type": "error",
     "traceback": [
      "\u001b[1;36m  File \u001b[1;32m\"<ipython-input-47-6de52ee627bd>\"\u001b[1;36m, line \u001b[1;32m13\u001b[0m\n\u001b[1;33m    file_path = pdf_path + 'pdf-'+ number + '.pdf'\u001b[0m\n\u001b[1;37m            ^\u001b[0m\n\u001b[1;31mIndentationError\u001b[0m\u001b[1;31m:\u001b[0m expected an indented block\n"
     ]
    }
   ],
   "source": [
    "for YEAR in YEAR_LIST:\n",
    "\n",
    "    file_number = []\n",
    "    pdf_path = f'../assets/pdf/{YEAR}/'\n",
    "\n",
    "    for r, d, f in os.walk(pdf_path):\n",
    "        for file in f:\n",
    "            if '.pdf' in file:\n",
    "                file_number.append(re.findall('[0-9]+', file)[0])\n",
    "    # Array of all PDF number as string            \n",
    "    file_number.sort(key=int)\n",
    "    for number in file_number:\n",
    "        file_path = pdf_path + 'pdf-'+ number + '.pdf'\n",
    "        try:\n",
    "            raw = parser.from_file(file_path)\n",
    "            len_raw = len(raw['content'])\n",
    "    \n",
    "            with codecs.open(f'../assets/txt/{YEAR}/txt-{number}.txt', 'w', 'utf-8') as file:\n",
    "                    file.write(raw['content'])\n",
    "                    text_len = len(raw['content'])\n",
    "    \n",
    "            print(f'file N° {number} -> len: {text_len}')\n",
    "            if text_len < 1000:\n",
    "                print(f'suspected scan: {number}')\n",
    "        except:\n",
    "            print(f'ERROR with: {number}')\n",
    "            print(sys.exc_info())\n",
    "        \n",
    "        \n",
    "# * ---------- Find the key of a value ---------- *\n",
    "\n",
    "#for k,v in enumerate(file_number):\n",
    "#    if v == '2000':\n",
    "#        print(f'key: {k} value: {v}')"
   ]
  },
  {
   "cell_type": "markdown",
   "metadata": {},
   "source": [
    "## Re-process PDF -> TXT for ERRORS"
   ]
  },
  {
   "cell_type": "code",
   "execution_count": null,
   "metadata": {},
   "outputs": [],
   "source": [
    "# ####REWRITE THIS\n",
    "# for number in error_files:\n",
    "#     file_path = f'pdf/{number}.pdf'\n",
    "#     while(True):\n",
    "#         try:\n",
    "#             raw = parser.from_file(file_path)\n",
    "#             len_raw = len(raw['content'])\n",
    "            \n",
    "#             with codecs.open(f'txt/txt-{number}.txt', 'w', 'utf-8') as file:\n",
    "#                     file.write(raw['content'])\n",
    "#                     text_len = len(raw['content'])\n",
    "                    \n",
    "#             #with codecs.open(f'txt/txt-{number}.txt', 'r','utf-8') as file:\n",
    "#                 #text_len = len(file.read())\n",
    "#             print(f'file N° {number} -> len: {text_len}')\n",
    "#             if text_len > 1000:\n",
    "#                 break\n",
    "#             else:\n",
    "#                 error_files.append(number)\n",
    "#                 break\n",
    "#         except:\n",
    "#             print(f'ERROR with: {number}')\n",
    "#             print(sys.exc_info())\n",
    "# print(error_files)"
   ]
  },
  {
   "cell_type": "markdown",
   "metadata": {},
   "source": [
    "# ---------- DEBUG ----------"
   ]
  },
  {
   "cell_type": "markdown",
   "metadata": {},
   "source": [
    "## PDF -> TXT on a specifique file"
   ]
  },
  {
   "cell_type": "code",
   "execution_count": null,
   "metadata": {},
   "outputs": [],
   "source": [
    "# file_to_convert = 23932\n",
    "\n",
    "# raw = parser.from_file(f'pdf/{file_to_convert}.pdf')\n",
    "# raw_len = len(raw['content'])\n",
    "# print(raw_len)\n",
    "\n",
    "# with open(f'{file_to_convert}.txt', 'w') as file:\n",
    "#     file.write(raw['content'])\n",
    "\n",
    "# with open(f'{file_to_convert}.txt', 'r') as file:\n",
    "#     txt_len = len(file.read())\n",
    "#     print(txt_len)\n"
   ]
  },
  {
   "cell_type": "markdown",
   "metadata": {},
   "source": [
    "## Print the len of a file"
   ]
  },
  {
   "cell_type": "code",
   "execution_count": null,
   "metadata": {},
   "outputs": [],
   "source": [
    "# with open('txt/47.txt', 'r') as file:\n",
    "#      print(len(file.read()))"
   ]
  },
  {
   "cell_type": "code",
   "execution_count": null,
   "metadata": {},
   "outputs": [],
   "source": []
  },
  {
   "cell_type": "code",
   "execution_count": null,
   "metadata": {},
   "outputs": [],
   "source": []
  }
 ],
 "metadata": {
  "kernelspec": {
   "display_name": "Python 3",
   "language": "python",
   "name": "python3"
  },
  "language_info": {
   "codemirror_mode": {
    "name": "ipython",
    "version": 3
   },
   "file_extension": ".py",
   "mimetype": "text/x-python",
   "name": "python",
   "nbconvert_exporter": "python",
   "pygments_lexer": "ipython3",
   "version": "3.7.4"
  },
  "pycharm": {
   "stem_cell": {
    "cell_type": "raw",
    "metadata": {
     "collapsed": false
    },
    "source": []
   }
  }
 },
 "nbformat": 4,
 "nbformat_minor": 2
}
