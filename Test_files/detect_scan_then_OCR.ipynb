{
 "cells": [
  {
   "cell_type": "markdown",
   "metadata": {
    "collapsed": true,
    "pycharm": {
     "name": "#%% md\n"
    }
   },
   "source": [
    "# Detect scan then apply OCR\n",
    "\n",
    "Check if the document (txt) is a scan.\n",
    "- If yes, aplly OCR on the PDF + write texte in txt.\n",
    "- Then detect language.\n",
    "- Then translate in EN.\n"
   ]
  },
  {
   "cell_type": "markdown",
   "metadata": {
    "pycharm": {
     "name": "#%% md\n"
    }
   },
   "source": [
    "## IMPORTS\n"
   ]
  },
  {
   "cell_type": "code",
   "execution_count": 19,
   "metadata": {
    "pycharm": {
     "is_executing": false,
     "name": "#%%\n"
    }
   },
   "outputs": [],
   "source": [
    "import re\n",
    "import os\n",
    "from tika import parser\n",
    "import spacy\n",
    "from spacy_langdetect import LanguageDetector\n",
    "import pytesseract\n",
    "from PIL import Image\n",
    "import codecs\n",
    "import sys\n",
    "import json\n",
    "from wand.image import Image as Img"
   ]
  },
  {
   "cell_type": "markdown",
   "metadata": {
    "pycharm": {
     "name": "#%% md\n"
    }
   },
   "source": [
    "## Check for scans in txt files\n"
   ]
  },
  {
   "cell_type": "code",
   "execution_count": 47,
   "metadata": {
    "pycharm": {
     "is_executing": false,
     "name": "#%%\n"
    }
   },
   "outputs": [
    {
     "name": "stdout",
     "output_type": "stream",
     "text": [
      "img0-1.jpg Converting...\n",
      "img0-1.jpg Deleted\n",
      "img0-0.jpg Converting...\n",
      "img0-0.jpg Deleted\n",
      "img0-2.jpg Converting...\n",
      "img0-2.jpg Deleted\n",
      "Scan N° 0 as been converted as txt at: ../assets/txt/2016/txt-0.txt\n",
      "--------------------------------------------------\n",
      "img1.jpg Converting...\n",
      "img1.jpg Deleted\n",
      "Scan N° 1 as been converted as txt at: ../assets/txt/2016/txt-1.txt\n",
      "--------------------------------------------------\n",
      "img2.jpg Converting...\n",
      "img2.jpg Deleted\n",
      "Scan N° 2 as been converted as txt at: ../assets/txt/2016/txt-2.txt\n",
      "--------------------------------------------------\n",
      "img3.jpg Converting...\n",
      "img3.jpg Deleted\n",
      "Scan N° 3 as been converted as txt at: ../assets/txt/2016/txt-3.txt\n",
      "--------------------------------------------------\n",
      "img4.jpg Converting...\n",
      "img4.jpg Deleted\n",
      "Scan N° 4 as been converted as txt at: ../assets/txt/2016/txt-4.txt\n",
      "--------------------------------------------------\n"
     ]
    }
   ],
   "source": [
    "YEAR = 2016\n",
    "# Get the list of all suspected scans\n",
    "suspected_scans = []\n",
    "\n",
    "with open(f'../assets/json/suspected_scans/suspected_scans_{YEAR}.json', 'r') as json_file:\n",
    "    suspected_scans = json.load(json_file)\n",
    "    \n",
    "    \n",
    "for unique_file in suspected_scans:\n",
    "    path_pdf = f'../assets/pdf/{YEAR}/pdf-{unique_file}.pdf'\n",
    "    path_txt = f'../assets/txt/{YEAR}/txt-{unique_file}.txt'\n",
    "    path_img = f'../assets/img/img{unique_file}.jpg'\n",
    "    path_dir_img = '../assets/img/'\n",
    "    \n",
    "    \n",
    "    # Convert pdf to jpg\n",
    "    with Img(filename=path_pdf, resolution=300) as img:\n",
    "        img.compression_quality = 99\n",
    "        img.save(filename=path_img)\n",
    "    # Apply OCR on it\n",
    "    current_file = ''\n",
    "    for r, d, f in os.walk(path_dir_img):\n",
    "        for img in f:\n",
    "            if '.jpg' in img:\n",
    "                print(f'{img} Converting...')\n",
    "                text_file = pytesseract.image_to_string(Image.open(path_dir_img + img))\n",
    "                current_file += text_file\n",
    "                os.remove(path_dir_img + img)\n",
    "                print(f'{img} Deleted')\n",
    "                \n",
    "    with codecs.open(path_txt, 'w', 'utf-8') as file:\n",
    "        file.write(current_file)\n",
    "    \n",
    "    print(f'Scan N° {unique_file} as been converted as txt at: {path_txt}')\n",
    "    print('--------------------------------------------------')"
   ]
  },
  {
   "cell_type": "code",
   "execution_count": null,
   "metadata": {},
   "outputs": [],
   "source": [
    "    "
   ]
  }
 ],
 "metadata": {
  "kernelspec": {
   "display_name": "Python 3",
   "language": "python",
   "name": "python3"
  },
  "language_info": {
   "codemirror_mode": {
    "name": "ipython",
    "version": 3
   },
   "file_extension": ".py",
   "mimetype": "text/x-python",
   "name": "python",
   "nbconvert_exporter": "python",
   "pygments_lexer": "ipython3",
   "version": "3.7.4"
  },
  "pycharm": {
   "stem_cell": {
    "cell_type": "raw",
    "source": [],
    "metadata": {
     "collapsed": false
    }
   }
  }
 },
 "nbformat": 4,
 "nbformat_minor": 1
}